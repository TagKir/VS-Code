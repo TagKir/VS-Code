{
 "cells": [
  {
   "cell_type": "code",
   "execution_count": 16,
   "id": "761119f5",
   "metadata": {},
   "outputs": [],
   "source": [
    "#Наследовать класс-это использование членов старшего класса в унаследованном классе\n",
    "#Полиморфизм-если у нас есть несколько классов(и одни наследуют другой класс),то мы можем можем\n",
    "#использовать for(и назначить некий \"Ультра класс\") и выписать все эти классы,то при использовании \n",
    "#\"Общего метода\"(который есть в этих классах) мы получим результат нескольких методов"
   ]
  },
  {
   "cell_type": "code",
   "execution_count": 17,
   "id": "363d138c",
   "metadata": {},
   "outputs": [],
   "source": [
    "class Shape:# <---- У него унаследуют другие классы\n",
    "   def __init__(self):\n",
    "      print('Shape created')\n",
    "   def draw(self):\n",
    "      print('Drawing a shape')\n",
    "   def area(self):\n",
    "      print('Calc area')\n",
    "   def perimeter(self):\n",
    "      print('Calc perimeter')"
   ]
  },
  {
   "cell_type": "code",
   "execution_count": 18,
   "id": "8a63ae10",
   "metadata": {},
   "outputs": [
    {
     "name": "stdout",
     "output_type": "stream",
     "text": [
      "Shape created\n"
     ]
    }
   ],
   "source": [
    "shape=Shape()"
   ]
  },
  {
   "cell_type": "code",
   "execution_count": 21,
   "id": "8b3cf910",
   "metadata": {},
   "outputs": [
    {
     "name": "stdout",
     "output_type": "stream",
     "text": [
      "Shape created\n",
      "Rectangle created\n"
     ]
    },
    {
     "data": {
      "text/plain": [
       "150"
      ]
     },
     "execution_count": 21,
     "metadata": {},
     "output_type": "execute_result"
    }
   ],
   "source": [
    "class Rectangle(Shape):# <-----Наследование\n",
    "\tdef __init__(self,width,height):\n",
    "\t\tShape.__init__(self)\n",
    "\t\tself.width=width\n",
    "\t\tself.height=height\n",
    "\t\tprint('Rectangle created')\n",
    "\tdef area(self):\n",
    "\t\treturn self.width*self.height\n",
    "\tdef perimeter(self):\n",
    "\t\treturn 2*(self.width+self.height)\n",
    "\tdef draw(self):\n",
    "\t\tprint(f'Drawing rectangle with width={self.width} and height-{self.height}')\n",
    "rect=Rectangle(10,15)\n",
    "rect.area()"
   ]
  },
  {
   "cell_type": "code",
   "execution_count": 22,
   "id": "e39cffd1",
   "metadata": {},
   "outputs": [
    {
     "name": "stdout",
     "output_type": "stream",
     "text": [
      "50\n",
      "Drawing rectangle with width=10 and height-15\n"
     ]
    }
   ],
   "source": [
    "#Наследовать класс-это использование членов старшего класса в унаследованном классе\n",
    "print(rect.perimeter())\n",
    "rect.draw()"
   ]
  },
  {
   "cell_type": "code",
   "execution_count": 23,
   "id": "dbac5b45",
   "metadata": {},
   "outputs": [
    {
     "name": "stdout",
     "output_type": "stream",
     "text": [
      "Shape created\n",
      "Triangle created\n",
      "Drawing Triangle with sides=10,10,10\n"
     ]
    }
   ],
   "source": [
    "import math\n",
    "class Triangle(Shape):# <----Наследование\n",
    "\tdef __init__(self,a,b,c):\n",
    "            Shape.__init__(self)\n",
    "            self.a=a\n",
    "            self.b=b\n",
    "            self.c=c\n",
    "            print('Triangle created')\n",
    "\tdef draw(self):\n",
    "\t\tprint(f'Drawing Triangle with sides={self.a},{self.b},{self.c}')\n",
    "\tdef area(self):\n",
    "\t\ts=(self.a+self.b+self.c)/2\n",
    "\t\treturn math.sqrt(s*(s-self.a)*(s-self.b)*(s-self.c))\n",
    "\tdef perimeter(self):\n",
    "\t\treturn self.a+self.b+self.c\n",
    "triangle = Triangle(10,10,10)\n",
    "triangle.draw()"
   ]
  },
  {
   "cell_type": "code",
   "execution_count": 24,
   "id": "c3276e99",
   "metadata": {},
   "outputs": [
    {
     "name": "stdout",
     "output_type": "stream",
     "text": [
      "43.30127018922193\n",
      "30\n"
     ]
    }
   ],
   "source": [
    "print(triangle.area())\n",
    "print(triangle.perimeter())"
   ]
  },
  {
   "cell_type": "code",
   "execution_count": 25,
   "id": "e7bfe576",
   "metadata": {},
   "outputs": [
    {
     "name": "stdout",
     "output_type": "stream",
     "text": [
      "Drawing rectangle with width=10 and height-15\n",
      "Drawing Triangle with sides=10,10,10\n"
     ]
    }
   ],
   "source": [
    "for shape in [rect,triangle]:# <---- Полиморфизм\n",
    "   shape.draw()\n",
    "#Полиморфизм-если у нас есть несколько классов(и одни наследуют другой класс),то мы можем можем\n",
    "#использовать for(и назначить некий \"Ультра класс\") и выписать все эти классы,то при использовании \n",
    "#\"Общего метода\"(который есть в этих классах) мы получим резулитат нескольких методов"
   ]
  },
  {
   "cell_type": "code",
   "execution_count": 15,
   "id": "684f9510",
   "metadata": {},
   "outputs": [],
   "source": [
    "#Если я не хочу использовать класс,но в классах которые унаследуют его хочу переназначить методы:\n",
    "#class Shape:# <---- Почти пустой класс\n",
    "#   def __init__(self):\n",
    "#      print('Shape created')\n",
    "#   def draw(self):\n",
    "#      raise NotImplementedError('Cant')\n",
    "#   def area(self):\n",
    "#      raise NotImplementedError('Cant')\n",
    "#   def perimeter(self):\n",
    "#      raise NotImplementedError('Cant')"
   ]
  },
  {
   "cell_type": "code",
   "execution_count": null,
   "metadata": {},
   "outputs": [],
   "source": []
  },
  {
   "cell_type": "code",
   "execution_count": null,
   "id": "68bd147d",
   "metadata": {},
   "outputs": [],
   "source": []
  }
 ],
 "metadata": {
  "interpreter": {
   "hash": "ed9133f600d2ec39949270f59c6a8c509b222808f681fa2922fd018e2475738a"
  },
  "kernelspec": {
   "display_name": "Python 3.8.8 64-bit ('base': conda)",
   "name": "python3"
  },
  "language_info": {
   "codemirror_mode": {
    "name": "ipython",
    "version": 3
   },
   "file_extension": ".py",
   "mimetype": "text/x-python",
   "name": "python",
   "nbconvert_exporter": "python",
   "pygments_lexer": "ipython3",
   "version": "3.8.8"
  }
 },
 "nbformat": 4,
 "nbformat_minor": 5
}
