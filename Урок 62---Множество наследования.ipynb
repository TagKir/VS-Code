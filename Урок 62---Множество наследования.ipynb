{
 "cells": [
  {
   "cell_type": "code",
   "execution_count": 7,
   "metadata": {},
   "outputs": [],
   "source": [
    "#Множество наследования-это когда класс наследует не один класс,а сразу несколько.\n"
   ]
  },
  {
   "cell_type": "code",
   "execution_count": 1,
   "metadata": {},
   "outputs": [],
   "source": [
    "class Animal:\n",
    "\tdef die(self):\n",
    "\t\tprint('bye-bye')\n",
    "\t\tself.health=0\n",
    "class Carnivour:\n",
    "\tdef hunt(self):\n",
    "\t\tprint('eating')\n",
    "\t\tself.satiety=100\n",
    "class Dog(Animal,Carnivour):# <-----Множественное наследование\n",
    "\tdef bark(self):\n",
    "\t\tprint('woof-woof')"
   ]
  },
  {
   "cell_type": "code",
   "execution_count": 2,
   "metadata": {},
   "outputs": [
    {
     "name": "stdout",
     "output_type": "stream",
     "text": [
      "woof-woof\n",
      "eating\n",
      "bye-bye\n"
     ]
    }
   ],
   "source": [
    "dog=Dog()\n",
    "dog.bark()\n",
    "dog.hunt()\n",
    "dog.die()"
   ]
  },
  {
   "cell_type": "code",
   "execution_count": 16,
   "metadata": {},
   "outputs": [],
   "source": [
    "class Animal:\n",
    "\tdef set_health(self,health):\n",
    "\t\tprint('set in animal')\n",
    "\n",
    "class Carnivour(Animal):\n",
    "\tdef set_health(self,health):\n",
    "\t\tprint('set in carnivour')\n",
    "\n",
    "class Mammal(Animal):\n",
    "\tdef set_health(self,health):\n",
    "\t\tprint('set in Mammal')\n",
    "class Dog(Mammal,Carnivour):\n",
    "\tpass"
   ]
  },
  {
   "cell_type": "code",
   "execution_count": 17,
   "metadata": {},
   "outputs": [
    {
     "name": "stdout",
     "output_type": "stream",
     "text": [
      "set in Mammal\n"
     ]
    }
   ],
   "source": [
    "dog=Dog()\n",
    "dog.set_health(10)"
   ]
  },
  {
   "cell_type": "code",
   "execution_count": 18,
   "metadata": {},
   "outputs": [],
   "source": [
    "#Но почему он выбрал Mammal ,а не Carnivour----Потому что Mammal идёт первым( ----> Dog(Mammal,Carnivour) <---- )"
   ]
  },
  {
   "cell_type": "code",
   "execution_count": 20,
   "metadata": {},
   "outputs": [],
   "source": [
    "#Теперь:\n",
    "class Animal:\n",
    "\tdef set_health(self,health):\n",
    "\t\tprint('set in animal')\n",
    "\n",
    "class Carnivour(Animal):\n",
    "\tdef set_health(self,health):\n",
    "\t\tprint('set in carnivour')\n",
    "\n",
    "class Mammal(Animal):\n",
    "\tdef set_health(self,health):\n",
    "\t\tprint('set in Mammal')\n",
    "class Dog(Mammal,Carnivour):\n",
    "\tdef set_health(self,health):\n",
    "\t\tMammal.set_health(self,health)\n",
    "\t\tCarnivour.set_health(self,health)\n",
    "\t\tAnimal.set_health(self,health)\n",
    "\n",
    "\t\tprint('set in dog')"
   ]
  },
  {
   "cell_type": "code",
   "execution_count": 21,
   "metadata": {},
   "outputs": [
    {
     "name": "stdout",
     "output_type": "stream",
     "text": [
      "set in Mammal\n",
      "set in carnivour\n",
      "set in animal\n",
      "set in dog\n"
     ]
    }
   ],
   "source": [
    "dog=Dog()\n",
    "dog.set_health(10)"
   ]
  },
  {
   "cell_type": "code",
   "execution_count": 24,
   "metadata": {},
   "outputs": [],
   "source": [
    "#Теперь(2 раз):\n",
    "class Animal:\n",
    "\tdef set_health(self,health):\n",
    "\t\tprint('set in animal')\n",
    "\n",
    "class Carnivour(Animal):\n",
    "\tdef set_health(self,health):\n",
    "\t\tAnimal.set_health(self,health)\n",
    "\t\tprint('set in carnivour')\n",
    "\n",
    "class Mammal(Animal):\n",
    "\tdef set_health(self,health):\n",
    "\t\tAnimal.set_health(self,health)\n",
    "\t\tprint('set in Mammal')\n",
    "class Dog(Mammal,Carnivour):\n",
    "\tdef set_health(self,health):\n",
    "\t\tMammal.set_health(self,health)\n",
    "\t\tCarnivour.set_health(self,health)\n",
    "\n",
    "\t\tprint('set in dog')"
   ]
  },
  {
   "cell_type": "code",
   "execution_count": 25,
   "metadata": {},
   "outputs": [
    {
     "name": "stdout",
     "output_type": "stream",
     "text": [
      "set in animal\n",
      "set in Mammal\n",
      "set in animal\n",
      "set in carnivour\n",
      "set in dog\n"
     ]
    }
   ],
   "source": [
    "dog=Dog()\n",
    "dog.set_health(10)"
   ]
  },
  {
   "cell_type": "code",
   "execution_count": 26,
   "metadata": {},
   "outputs": [],
   "source": [
    "#И чтобы у нас не было такого нам нужно использовать функцию super()-она даёт нам уверенность в последовательности\n",
    "#Синтаксис:\n",
    "# 1.  super().Метод который мы хотим продолжить(То,что мы должны были в него вводить но так и не ввели(!!!!!!КРОМЕ SELF!!!!!!!!))\n",
    "# 2.  Если у нас получилась \"Замкнутая линия\" из нескольких наследников-------то мы используем super() ВО ВСЕХ НАСЛЕДНИКАХ\n",
    "# 3.  Порядок использования \"Общего метода\" в классах:\n",
    "# (Возьму в пример то,что ниже)-Сначала мы пишим все классы и в них записываем super();\n",
    "# Когда мы записываем последний класс,то \"Надклассы\" мы записываем в обратном порядке от того как мы хотим получить ответ\n",
    "# Потому что если мы представим цепочку с конца в начало то будет Dog---Mammal---Carnivour---Animal (то-есть Dog(Mammal,Carnivour) )\n",
    "# Это называется mro , то-есть mro of Dog              ВЫВОД:СНАЧАЛА САМЫЙ ГЛУБОКИЙ"
   ]
  },
  {
   "cell_type": "code",
   "execution_count": 15,
   "metadata": {},
   "outputs": [],
   "source": [
    "#Теперь(3 раз):\n",
    "class Animal:\n",
    "\tdef set_health(self,health):\n",
    "\t\tprint('set in animal')\n",
    "\n",
    "class Carnivour(Animal):\n",
    "\tdef set_health(self,health):\n",
    "\t\tsuper().set_health(health) #---------Это очень важно,чтобы функция super была у всех классов(И надклассов,и подклассов кроме изначального)\n",
    "\t\t#Animal.set_health(self,health)\n",
    "\t\tprint('set in carnivour')\n",
    "\n",
    "class Mammal(Animal):\n",
    "\tdef set_health(self,health):\n",
    "\t\tsuper().set_health(health)\n",
    "\t\t#Animal.set_health(self,health)\n",
    "\t\tprint('set in Mammal')\n",
    "class Dog(Mammal,Carnivour):\n",
    "\tdef set_health(self,health):\n",
    "\t\tsuper().set_health(health)\n",
    "\t\t#Mammal.set_health(self,health)\n",
    "\t\t#Carnivour.set_health(self,health)\n",
    "\n",
    "\t\tprint('set in dog')"
   ]
  },
  {
   "cell_type": "code",
   "execution_count": 16,
   "metadata": {},
   "outputs": [
    {
     "name": "stdout",
     "output_type": "stream",
     "text": [
      "set in animal\n",
      "set in carnivour\n",
      "set in Mammal\n",
      "set in dog\n"
     ]
    }
   ],
   "source": [
    "dog=Dog()\n",
    "dog.set_health(10)"
   ]
  },
  {
   "cell_type": "code",
   "execution_count": 48,
   "metadata": {},
   "outputs": [],
   "source": [
    "class Animal:\n",
    "\n",
    "\tdef __init__(self):\n",
    "\t\tself.health = 100\n",
    "\tdef hit(self , damage):\n",
    "\t\tself.health-=damage\n",
    "class Carnivour(Animal):\n",
    "\tdef __init__(self):\n",
    "\t\tsuper().__init__()\n",
    "\t\tself.legs=4"
   ]
  },
  {
   "cell_type": "code",
   "execution_count": 49,
   "id": "25df0806",
   "metadata": {},
   "outputs": [
    {
     "name": "stdout",
     "output_type": "stream",
     "text": [
      "90\n"
     ]
    }
   ],
   "source": [
    "c=Carnivour()\n",
    "c.hit(10)\n",
    "print(c.health)"
   ]
  },
  {
   "cell_type": "code",
   "execution_count": null,
   "id": "59f8dc3c",
   "metadata": {},
   "outputs": [],
   "source": []
  }
 ],
 "metadata": {
  "interpreter": {
   "hash": "ed9133f600d2ec39949270f59c6a8c509b222808f681fa2922fd018e2475738a"
  },
  "kernelspec": {
   "display_name": "Python 3.8.8 64-bit ('base': conda)",
   "name": "python3"
  },
  "language_info": {
   "codemirror_mode": {
    "name": "ipython",
    "version": 3
   },
   "file_extension": ".py",
   "mimetype": "text/x-python",
   "name": "python",
   "nbconvert_exporter": "python",
   "pygments_lexer": "ipython3",
   "version": "3.8.8"
  }
 },
 "nbformat": 4,
 "nbformat_minor": 5
}
