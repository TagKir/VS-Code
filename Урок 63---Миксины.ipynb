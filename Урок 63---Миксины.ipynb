{
 "cells": [
  {
   "cell_type": "code",
   "execution_count": 1,
   "metadata": {},
   "outputs": [],
   "source": [
    "class Venicle:\n",
    "\tdef __init__(self, position):\n",
    "\t\tself.position=position\n",
    "\tdef calculate_route(self,source,to):\n",
    "\t\treturn 0\n",
    "\tdef travel(self,destination):\n",
    "\t\troute = Venicle.calculate_route(source=self.position, to=destination)\n",
    "\t\tself.move_along(route)\n",
    "\tdef move_along(self,route):\n",
    "\t\tprint('moving')\n",
    "class Car(Venicle):\n",
    "\tpass\n",
    "class Airplane(Venicle):\n",
    "\tpass"
   ]
  },
  {
   "cell_type": "code",
   "execution_count": 2,
   "metadata": {},
   "outputs": [],
   "source": [
    "#Но как нам использовать \"Радио\" в машине,но не употреблять его в самолёте?-----Для этого нам нужен миксин:\n",
    "class RadioMixin:\n",
    "\tdef __init__(self):\n",
    "\t\tself.radio=Radio()\n",
    "\tdef turn_on(self,station):\n",
    "\t\tself.radio.set_station(station)\n",
    "\t\tself.radio.play()\n",
    "class Radio:\n",
    "\tdef set_station(self,station):\n",
    "\t\tself.station=station\n",
    "\tdef play(self):\n",
    "\t\tprint(f'Playing {self.station}')\n",
    "class Car(Venicle,RadioMixin):\n",
    "\tdef __init__(self):\n",
    "\t\tVenicle.__init__(self,(10,20))\n",
    "\t\tRadioMixin.__init__(self)"
   ]
  },
  {
   "cell_type": "code",
   "execution_count": 3,
   "metadata": {},
   "outputs": [
    {
     "name": "stdout",
     "output_type": "stream",
     "text": [
      "Playing Moscow FM\n"
     ]
    }
   ],
   "source": [
    "car=Car()\n",
    "car.turn_on('Moscow FM')"
   ]
  },
  {
   "cell_type": "code",
   "execution_count": 8,
   "metadata": {},
   "outputs": [
    {
     "name": "stdout",
     "output_type": "stream",
     "text": [
      "Now playing:Moscow FM\n"
     ]
    }
   ],
   "source": [
    "class Radio:\n",
    "\tdef set_st(self,station):\n",
    "\t\tself.station=station\n",
    "\tdef play(self):\n",
    "\t\tprint(f'Now playing:{self.station}')\n",
    "class Ca(Radio):\n",
    "\tdef __init__(self,s):\n",
    "\t\tRadio.set_st(self,s)\n",
    "ca=Ca('Moscow FM')\n",
    "ca.play()"
   ]
  }
 ],
 "metadata": {
  "interpreter": {
   "hash": "ed9133f600d2ec39949270f59c6a8c509b222808f681fa2922fd018e2475738a"
  },
  "kernelspec": {
   "display_name": "Python 3.8.8 64-bit ('base': conda)",
   "language": "python",
   "name": "python3"
  },
  "language_info": {
   "codemirror_mode": {
    "name": "ipython",
    "version": 3
   },
   "file_extension": ".py",
   "mimetype": "text/x-python",
   "name": "python",
   "nbconvert_exporter": "python",
   "pygments_lexer": "ipython3",
   "version": "3.8.8"
  },
  "orig_nbformat": 4
 },
 "nbformat": 4,
 "nbformat_minor": 2
}
