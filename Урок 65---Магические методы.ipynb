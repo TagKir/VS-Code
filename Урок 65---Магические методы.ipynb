{
 "cells": [
  {
   "cell_type": "code",
   "execution_count": 1,
   "metadata": {},
   "outputs": [],
   "source": [
    "# С помощью магических (дандер) методов мы можем переопределять кое-какое поведение\n",
    "# Их синтаксис:  __НАЗВАНИЕМЕТОДА__\n",
    "\n",
    "#  Основные магические методы:\n",
    "#  __init__  -  конструктор\n",
    "#  __str__   -  можно создать некое пояснение или название для класса\n",
    "#  __len__   -  можно задать то, что он будет выводить\n",
    "#  __del__   -  совсем удаляет класс"
   ]
  },
  {
   "cell_type": "code",
   "execution_count": 2,
   "metadata": {},
   "outputs": [
    {
     "name": "stdout",
     "output_type": "stream",
     "text": [
      "<__main__.Point object at 0x00000206900612B0>\n"
     ]
    }
   ],
   "source": [
    "class Point():\n",
    "\tdef __init__(self, x, y): # <-----__init__ это тоже один из таких магических методов\n",
    "\t\tself.x = x\n",
    "\t\tself.y = y\n",
    "p = Point(3, 4)\n",
    "print(p)"
   ]
  },
  {
   "cell_type": "code",
   "execution_count": 6,
   "metadata": {},
   "outputs": [
    {
     "name": "stdout",
     "output_type": "stream",
     "text": [
      "Point x=3, y=4\n"
     ]
    }
   ],
   "source": [
    "# Но если мы хотим видеть более красивый вывод:\n",
    "class Point():\n",
    "\tdef __init__(self, x, y):\n",
    "\t\tself.x = x\n",
    "\t\tself.y = y\n",
    "\t\n",
    "\tdef __str__(self): # <----- Это один из магических классов\n",
    "\t\treturn f'Point x={self.x}, y={self.y}'\n",
    "p = Point(3, 4)\n",
    "print(p)"
   ]
  },
  {
   "cell_type": "code",
   "execution_count": null,
   "metadata": {},
   "outputs": [],
   "source": []
  },
  {
   "cell_type": "code",
   "execution_count": 7,
   "metadata": {},
   "outputs": [],
   "source": [
    "class Road():\n",
    "\tdef __init__(self, length) :\n",
    "\t\tself.length = length\n",
    "\t\n",
    "\tdef __len__(self):\n",
    "\t\treturn self.length\n",
    "\t\n",
    "\tdef __str__(self):\n",
    "\t\treturn f'A road of length:{self.length}'\n",
    "\t\n",
    "\tdef __del__(self):\n",
    "\t\tprint(f'The road has been destroyed')"
   ]
  },
  {
   "cell_type": "code",
   "execution_count": 8,
   "metadata": {},
   "outputs": [
    {
     "data": {
      "text/plain": [
       "100"
      ]
     },
     "execution_count": 8,
     "metadata": {},
     "output_type": "execute_result"
    }
   ],
   "source": [
    "r = Road(100)\n",
    "len(r) # <----- Если бы это мы не написали __len__ , то это бы не работало"
   ]
  },
  {
   "cell_type": "code",
   "execution_count": 9,
   "metadata": {},
   "outputs": [
    {
     "name": "stdout",
     "output_type": "stream",
     "text": [
      "A road of length:100\n"
     ]
    }
   ],
   "source": [
    "print(r)"
   ]
  },
  {
   "cell_type": "code",
   "execution_count": 13,
   "metadata": {},
   "outputs": [
    {
     "name": "stdout",
     "output_type": "stream",
     "text": [
      "The road has been destroyed\n"
     ]
    }
   ],
   "source": [
    "del r # <----- Он полностью удалил класс"
   ]
  },
  {
   "cell_type": "code",
   "execution_count": 14,
   "metadata": {},
   "outputs": [
    {
     "ename": "NameError",
     "evalue": "name 'r' is not defined",
     "output_type": "error",
     "traceback": [
      "\u001b[1;31m---------------------------------------------------------------------------\u001b[0m",
      "\u001b[1;31mNameError\u001b[0m                                 Traceback (most recent call last)",
      "\u001b[1;32m<ipython-input-14-c6b8a6a9416b>\u001b[0m in \u001b[0;36m<module>\u001b[1;34m\u001b[0m\n\u001b[1;32m----> 1\u001b[1;33m \u001b[0mprint\u001b[0m\u001b[1;33m(\u001b[0m\u001b[0mr\u001b[0m\u001b[1;33m)\u001b[0m\u001b[1;33m\u001b[0m\u001b[1;33m\u001b[0m\u001b[0m\n\u001b[0m",
      "\u001b[1;31mNameError\u001b[0m: name 'r' is not defined"
     ]
    }
   ],
   "source": [
    "print(r)"
   ]
  }
 ],
 "metadata": {
  "interpreter": {
   "hash": "ed9133f600d2ec39949270f59c6a8c509b222808f681fa2922fd018e2475738a"
  },
  "kernelspec": {
   "display_name": "Python 3.8.8 64-bit ('base': conda)",
   "language": "python",
   "name": "python3"
  },
  "language_info": {
   "codemirror_mode": {
    "name": "ipython",
    "version": 3
   },
   "file_extension": ".py",
   "mimetype": "text/x-python",
   "name": "python",
   "nbconvert_exporter": "python",
   "pygments_lexer": "ipython3",
   "version": "3.8.8"
  },
  "orig_nbformat": 4
 },
 "nbformat": 4,
 "nbformat_minor": 2
}
