{
 "cells": [
  {
   "cell_type": "code",
   "execution_count": 19,
   "metadata": {},
   "outputs": [],
   "source": [
    "#ABC - Abstract Base Class\n",
    "from abc import ABC\n",
    "from abc import abstractmethod # <----- это декоратор\n",
    "# Абстрактный метод - тот метод, который мы не можем выполнить и даже создать экземпляр класса с таким методом,но можем унаследовать и переназначить"
   ]
  },
  {
   "cell_type": "code",
   "execution_count": 20,
   "metadata": {},
   "outputs": [
    {
     "ename": "TypeError",
     "evalue": "Can't instantiate abstract class Shape with abstract methods area, draw, perimeter",
     "output_type": "error",
     "traceback": [
      "\u001b[1;31m---------------------------------------------------------------------------\u001b[0m",
      "\u001b[1;31mTypeError\u001b[0m                                 Traceback (most recent call last)",
      "\u001b[1;32m<ipython-input-20-6ea42c1a93ca>\u001b[0m in \u001b[0;36m<module>\u001b[1;34m\u001b[0m\n\u001b[0;32m     18\u001b[0m                 \u001b[0mprint\u001b[0m\u001b[1;33m(\u001b[0m\u001b[1;34m'Basic dragging functionality'\u001b[0m\u001b[1;33m)\u001b[0m\u001b[1;33m\u001b[0m\u001b[1;33m\u001b[0m\u001b[0m\n\u001b[0;32m     19\u001b[0m \u001b[1;33m\u001b[0m\u001b[0m\n\u001b[1;32m---> 20\u001b[1;33m \u001b[0ms\u001b[0m \u001b[1;33m=\u001b[0m \u001b[0mShape\u001b[0m\u001b[1;33m(\u001b[0m\u001b[1;33m)\u001b[0m\u001b[1;33m\u001b[0m\u001b[1;33m\u001b[0m\u001b[0m\n\u001b[0m",
      "\u001b[1;31mTypeError\u001b[0m: Can't instantiate abstract class Shape with abstract methods area, draw, perimeter"
     ]
    }
   ],
   "source": [
    "class Shape(ABC):\n",
    "\n",
    "\tdef __init__(self):\n",
    "\t\tsuper().__init__()\n",
    "\t@abstractmethod # <----- Мы делаем этот метод абстрактным\n",
    "\tdef draw(self):\n",
    "\t\tpass\n",
    "\n",
    "\t@abstractmethod\n",
    "\tdef area(self):\n",
    "\t\tpass\n",
    "\n",
    "\t@abstractmethod\n",
    "\tdef perimeter(self):\n",
    "\t\tpass # <----- Нам не обязательно делать только 'pass'\n",
    "\t\n",
    "\tdef drag(self):\n",
    "\t\tprint('Basic dragging functionality')\n",
    "\t\n",
    "s = Shape()"
   ]
  },
  {
   "cell_type": "code",
   "execution_count": null,
   "metadata": {},
   "outputs": [],
   "source": []
  },
  {
   "cell_type": "code",
   "execution_count": 21,
   "metadata": {},
   "outputs": [
    {
     "ename": "TypeError",
     "evalue": "Can't instantiate abstract class Triangle with abstract methods perimeter",
     "output_type": "error",
     "traceback": [
      "\u001b[1;31m---------------------------------------------------------------------------\u001b[0m",
      "\u001b[1;31mTypeError\u001b[0m                                 Traceback (most recent call last)",
      "\u001b[1;32m<ipython-input-21-bdfe217a899f>\u001b[0m in \u001b[0;36m<module>\u001b[1;34m\u001b[0m\n\u001b[0;32m     22\u001b[0m \u001b[1;33m\u001b[0m\u001b[0m\n\u001b[0;32m     23\u001b[0m \u001b[1;33m\u001b[0m\u001b[0m\n\u001b[1;32m---> 24\u001b[1;33m \u001b[0mt\u001b[0m \u001b[1;33m=\u001b[0m \u001b[0mTriangle\u001b[0m\u001b[1;33m(\u001b[0m\u001b[1;36m10\u001b[0m\u001b[1;33m,\u001b[0m \u001b[1;36m10\u001b[0m\u001b[1;33m,\u001b[0m \u001b[1;36m10\u001b[0m\u001b[1;33m)\u001b[0m\u001b[1;33m\u001b[0m\u001b[1;33m\u001b[0m\u001b[0m\n\u001b[0m",
      "\u001b[1;31mTypeError\u001b[0m: Can't instantiate abstract class Triangle with abstract methods perimeter"
     ]
    }
   ],
   "source": [
    "import math\n",
    "class Triangle(Shape):\n",
    "\n",
    "\tdef __init__(self, a, b ,c):\n",
    "\t\tself.a = a\n",
    "\t\tself.b = b\n",
    "\t\tself.c = c\n",
    "\n",
    "\tdef draw(self):\n",
    "\t\tprint(f'Drawing Triangle with sides={self.a}, {self.b}, {self.c}')\n",
    "\n",
    "\tdef area(self):\n",
    "\t\ts = (self.a + self.b + self.c) / 2 \n",
    "\t\treturn math.sqrt(s*(s - self.a) * (s - self.b) * (s - self.c))\n",
    "\n",
    "\t#def perimeter(self):\n",
    "\t#\treturn self.a + self.b + self.c\n",
    "\t\n",
    "\tdef drag(self): # <----- Мы могли его и не перезначать\n",
    "\t\tsuper().drag()\n",
    "\t\tprint('Additional actions')\n",
    "\n",
    "\n",
    "t = Triangle(10, 10, 10)"
   ]
  },
  {
   "cell_type": "code",
   "execution_count": 22,
   "metadata": {},
   "outputs": [],
   "source": [
    "# НО:"
   ]
  },
  {
   "cell_type": "code",
   "execution_count": 23,
   "metadata": {},
   "outputs": [],
   "source": [
    "import math\n",
    "class Triangle(Shape):\n",
    "\n",
    "\tdef __init__(self, a, b ,c):\n",
    "\t\tself.a = a\n",
    "\t\tself.b = b\n",
    "\t\tself.c = c\n",
    "\n",
    "\tdef draw(self):\n",
    "\t\tprint(f'Drawing Triangle with sides={self.a}, {self.b}, {self.c}')\n",
    "\n",
    "\tdef area(self):\n",
    "\t\ts = (self.a + self.b + self.c) / 2 \n",
    "\t\treturn math.sqrt(s*(s - self.a) * (s - self.b) * (s - self.c))\n",
    "\n",
    "\tdef perimeter(self):\n",
    "\t\treturn self.a + self.b + self.c\n",
    "\t\n",
    "\tdef drag(self):\n",
    "\t\tsuper().drag()\n",
    "\t\tprint('Additional actions')\n",
    "\n",
    "\n",
    "t = Triangle(10, 10, 10)"
   ]
  },
  {
   "cell_type": "code",
   "execution_count": 24,
   "metadata": {},
   "outputs": [
    {
     "data": {
      "text/plain": [
       "30"
      ]
     },
     "execution_count": 24,
     "metadata": {},
     "output_type": "execute_result"
    }
   ],
   "source": [
    "t.perimeter()"
   ]
  },
  {
   "cell_type": "code",
   "execution_count": 25,
   "metadata": {},
   "outputs": [
    {
     "name": "stdout",
     "output_type": "stream",
     "text": [
      "Basic dragging functionality\n",
      "Additional actions\n"
     ]
    }
   ],
   "source": [
    "t.drag()"
   ]
  }
 ],
 "metadata": {
  "interpreter": {
   "hash": "ed9133f600d2ec39949270f59c6a8c509b222808f681fa2922fd018e2475738a"
  },
  "kernelspec": {
   "display_name": "Python 3.8.8 64-bit ('base': conda)",
   "language": "python",
   "name": "python3"
  },
  "language_info": {
   "codemirror_mode": {
    "name": "ipython",
    "version": 3
   },
   "file_extension": ".py",
   "mimetype": "text/x-python",
   "name": "python",
   "nbconvert_exporter": "python",
   "pygments_lexer": "ipython3",
   "version": "3.8.8"
  },
  "orig_nbformat": 4
 },
 "nbformat": 4,
 "nbformat_minor": 2
}
